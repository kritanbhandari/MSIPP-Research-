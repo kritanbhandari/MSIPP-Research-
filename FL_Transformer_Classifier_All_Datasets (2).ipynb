{
 "cells": [
  {
   "cell_type": "code",
   "execution_count": 14,
   "id": "53a58cfe-673d-47c7-8025-21ae2e541c3a",
   "metadata": {},
   "outputs": [],
   "source": [
    "import pandas as pd\n",
    "import numpy as np\n",
    "import torch\n",
    "import torch.nn as nn\n",
    "from torch.utils.data import DataLoader, TensorDataset\n",
    "from sklearn.model_selection import train_test_split\n",
    "from sklearn.preprocessing import RobustScaler, OneHotEncoder, MinMaxScaler\n",
    "from sklearn.compose import ColumnTransformer\n",
    "from sklearn.pipeline import Pipeline\n",
    "from sklearn.impute import SimpleImputer\n",
    "from sklearn.metrics import classification_report, confusion_matrix, ConfusionMatrixDisplay\n",
    "import matplotlib.pyplot as plt\n",
    "import math\n",
    "import copy"
   ]
  },
  {
   "cell_type": "code",
   "execution_count": 15,
   "id": "ede481fe-7d8e-4540-8916-54564778d85b",
   "metadata": {
    "editable": true,
    "slideshow": {
     "slide_type": ""
    },
    "tags": []
   },
   "outputs": [],
   "source": [
    "# Model Hyperparameters\n",
    "SEQUENCE_LENGTH = 10\n",
    "D_MODEL = 128\n",
    "N_HEADS = 4\n",
    "NUM_ENCODER_LAYERS = 3\n",
    "DROPOUT_RATE = 0.1\n",
    "LEARNING_RATE = 1e-4\n",
    "SERVER_FINETUNE_EPOCHS = 3 "
   ]
  },
  {
   "cell_type": "code",
   "execution_count": 16,
   "id": "d88155fb-c435-473a-b65c-e286d7039886",
   "metadata": {},
   "outputs": [],
   "source": [
    "# Federated Learning Hyperparameters\n",
    "NUM_CLIENTS = 5\n",
    "NUM_ROUNDS = 100     # Number of communication rounds between server and clients\n",
    "EPOCHS_PER_CLIENT = 1 # Number of local training epochs for each client on its data\n",
    "BATCH_SIZE = 128\n",
    "dirichlet_alpha = 100\n",
    "MU = 1 "
   ]
  },
  {
   "cell_type": "code",
   "execution_count": 17,
   "id": "5f9e19bc-fe11-47a8-9de7-076d6e0ddc34",
   "metadata": {},
   "outputs": [
    {
     "name": "stdout",
     "output_type": "stream",
     "text": [
      "--- Using CUDA device for training and evaluation ---\n"
     ]
    }
   ],
   "source": [
    "device = 'cuda' if torch.cuda.is_available() else 'cpu'\n",
    "print(f\"--- Using {device.upper()} device for training and evaluation ---\")"
   ]
  },
  {
   "cell_type": "code",
   "execution_count": 18,
   "id": "525ed3ba-9e3d-46a1-bdfd-2dfad8334d04",
   "metadata": {},
   "outputs": [],
   "source": [
    "# List of all data files to be loaded\n",
    "files_to_load = [\n",
    "    'train_basic.csv',\n",
    "    'test_basic.csv',\n",
    "    'train_semiurban.csv',\n",
    "    'test_semiurban.csv',\n",
    "    'test_rural.csv'\n",
    "]"
   ]
  },
  {
   "cell_type": "code",
   "execution_count": 19,
   "id": "a96e2445-713d-4bdb-80b7-d9079668f0a0",
   "metadata": {},
   "outputs": [
    {
     "name": "stderr",
     "output_type": "stream",
     "text": [
      "/tmp/ipykernel_1594734/3454815949.py:5: DtypeWarning: Columns (0,304,307,344,347,397,398,399,400,401,402,413,414,423,424) have mixed types. Specify dtype option on import or set low_memory=False.\n",
      "  df = pd.read_csv(path)\n"
     ]
    },
    {
     "name": "stdout",
     "output_type": "stream",
     "text": [
      "Successfully loaded train_basic.csv\n"
     ]
    },
    {
     "name": "stderr",
     "output_type": "stream",
     "text": [
      "/tmp/ipykernel_1594734/3454815949.py:5: DtypeWarning: Columns (0,201,205,212,213,233,237,241,245,256,259,275,280,283,307,328,331,336,339,355,370,374,379,380,382,387,388,389,390,391,392,393,394,395,396,400,401,402,404,405,406,407,408,409,410,411,412,413,414,417,418,421,422,423,424,425,426,427,428,429,430,431,432,442) have mixed types. Specify dtype option on import or set low_memory=False.\n",
      "  df = pd.read_csv(path)\n"
     ]
    },
    {
     "name": "stdout",
     "output_type": "stream",
     "text": [
      "Successfully loaded test_basic.csv\n"
     ]
    },
    {
     "name": "stderr",
     "output_type": "stream",
     "text": [
      "/tmp/ipykernel_1594734/3454815949.py:5: DtypeWarning: Columns (0,1517,1519,2616,2617,2618,2619,2686,2687,2688,2689) have mixed types. Specify dtype option on import or set low_memory=False.\n",
      "  df = pd.read_csv(path)\n"
     ]
    },
    {
     "name": "stdout",
     "output_type": "stream",
     "text": [
      "Successfully loaded train_semiurban.csv\n"
     ]
    },
    {
     "name": "stderr",
     "output_type": "stream",
     "text": [
      "/tmp/ipykernel_1594734/3454815949.py:5: DtypeWarning: Columns (0,1165,1181,1241,1249,1253,1317,1321,1325,1329,1345,1513,1519,1588,1598,1603,1683,1688,1693,1698,1718,1890,1939,1945,1957,2013,2031,2055,2103,2157,2234,2235,2259,2261,2263,2267,2269,2271,2273,2275,2285,2292,2293,2408,2410,2411,2421,2517,2519,2523,2525,2527,2529,2586,2587,2588,2589,2591,2593,2595,2597,2599,2601,2603,2605,2617,2618,2619,2699,2701,2705,2713,2717,2719) have mixed types. Specify dtype option on import or set low_memory=False.\n",
      "  df = pd.read_csv(path)\n"
     ]
    },
    {
     "name": "stdout",
     "output_type": "stream",
     "text": [
      "Successfully loaded test_semiurban.csv\n"
     ]
    },
    {
     "name": "stderr",
     "output_type": "stream",
     "text": [
      "/tmp/ipykernel_1594734/3454815949.py:5: DtypeWarning: Columns (0,749,757,761,793,797,809,861,865,884,885,901,917,921,924,925,929,933,949,953,988,998,1003,1043,1048,1056,1058,1063,1128,1133,1178,1198,1203,1206,1208,1213,1218,1238,1243,1272,1320,1398,1416,1428,1432,1434,1440,1446,1470,1476,1482,1530,1536,1542,1566,1584,1590,1619,1620,1622,1624,1629,1630,1650,1652,1654,1659,1660,1664,1678,1681,1682,1690,1691,1692,1694,1696,1702,1706,1712,1716,1718,1720,1725,1726,1729,1730,1731,1732,1733,1735,1736,1740,1747,1748,1751,1752,1758,1760,1761,1762,1764,1767,1768,1775,1776,1778,1779,1780,1786,1788,1816,1818,1828,1830,1835,1836,1850,1855,1856) have mixed types. Specify dtype option on import or set low_memory=False.\n",
      "  df = pd.read_csv(path)\n"
     ]
    },
    {
     "name": "stdout",
     "output_type": "stream",
     "text": [
      "Successfully loaded test_rural.csv\n"
     ]
    }
   ],
   "source": [
    "list_of_dfs = []\n",
    "for filename in files_to_load:\n",
    "    path = f\"datasets/{filename}\"\n",
    "    try:\n",
    "        df = pd.read_csv(path)\n",
    "        # Optional: Add a column to track the origin of the data\n",
    "        df['origin'] = filename.split('.')[0]\n",
    "        list_of_dfs.append(df)\n",
    "        print(f\"Successfully loaded {filename}\")\n",
    "    except FileNotFoundError:\n",
    "        print(f\"Warning: Could not find file {filename}. Skipping.\")"
   ]
  },
  {
   "cell_type": "code",
   "execution_count": 20,
   "id": "3a831af8-330b-494f-8e36-fb5cb6b680e1",
   "metadata": {},
   "outputs": [
    {
     "name": "stdout",
     "output_type": "stream",
     "text": [
      "(43204, 473)\n",
      "(43204, 473)\n",
      "(11116, 3568)\n",
      "(10803, 3568)\n",
      "(43206, 1897)\n"
     ]
    }
   ],
   "source": [
    "for i in list_of_dfs:\n",
    "    print(i.shape)"
   ]
  },
  {
   "cell_type": "code",
   "execution_count": 21,
   "id": "6cba86d9-594f-49fb-abc7-a43cfb75202a",
   "metadata": {},
   "outputs": [
    {
     "name": "stdout",
     "output_type": "stream",
     "text": [
      "\n",
      "Found 219 features common to ALL datasets. Using these for training.\n"
     ]
    }
   ],
   "source": [
    "common_columns = set(list_of_dfs[0].columns)\n",
    "\n",
    "for df in list_of_dfs[1:]:\n",
    "    common_columns.intersection_update(df.columns)\n",
    "\n",
    "common_columns = list(common_columns)\n",
    "if 'malicious' not in common_columns:\n",
    "    print(\"Warning: 'malicious' column not common to all files.\")\n",
    "\n",
    "print(f\"\\nFound {len(common_columns)} features common to ALL datasets. Using these for training.\")\n",
    "\n",
    "# Filter all dataframes to use ONLY the common columns\n",
    "list_of_cleaned_dfs = [df[common_columns] for df in list_of_dfs]"
   ]
  },
  {
   "cell_type": "code",
   "execution_count": 22,
   "id": "02461354-ac94-4659-a907-e4188d08daa0",
   "metadata": {},
   "outputs": [],
   "source": [
    "list_of_cleaned_dfs = [df[common_columns] for df in list_of_dfs]"
   ]
  },
  {
   "cell_type": "code",
   "execution_count": 23,
   "id": "3d27b8b7-d564-4106-809b-5800f1ea12aa",
   "metadata": {},
   "outputs": [
    {
     "name": "stdout",
     "output_type": "stream",
     "text": [
      "✅ All datasets combined using common features. Full dataset shape: (151533, 219)\n"
     ]
    }
   ],
   "source": [
    "full_df = pd.concat(list_of_cleaned_dfs, ignore_index=True)\n",
    "print(f\"✅ All datasets combined using common features. Full dataset shape: {full_df.shape}\")"
   ]
  },
  {
   "cell_type": "code",
   "execution_count": 24,
   "id": "7d19a5f4-9f6e-4831-89bc-48a290097c01",
   "metadata": {},
   "outputs": [],
   "source": [
    "def map_malicious_to_numeric(value):\n",
    "    val_str = str(value).strip()\n",
    "    if val_str == 'False': return 0\n",
    "    elif 'benign' in val_str: return 1\n",
    "    elif val_str.isdigit(): return 2\n",
    "    else: return 0\n",
    "\n",
    "full_df['malicious'] = full_df['malicious'].apply(map_malicious_to_numeric)"
   ]
  },
  {
   "cell_type": "code",
   "execution_count": 25,
   "id": "a49b3bc6-14ba-43e3-af44-e501939fa29b",
   "metadata": {},
   "outputs": [
    {
     "data": {
      "text/plain": [
       "(151533, 219)"
      ]
     },
     "execution_count": 25,
     "metadata": {},
     "output_type": "execute_result"
    }
   ],
   "source": [
    "full_df.shape"
   ]
  },
  {
   "cell_type": "code",
   "execution_count": 26,
   "id": "b532173b-35db-440d-8bdd-6644cfe45e97",
   "metadata": {},
   "outputs": [
    {
     "name": "stdout",
     "output_type": "stream",
     "text": [
      "Found and dropping 28 constant numerical columns.\n"
     ]
    }
   ],
   "source": [
    "# Remove constant numerical columns based on the full dataset\n",
    "std_dev_full = full_df.std(numeric_only=True)\n",
    "cols_to_drop = std_dev_full[std_dev_full == 0].index.tolist()\n",
    "\n",
    "if cols_to_drop:\n",
    "    print(f\"Found and dropping {len(cols_to_drop)} constant numerical columns.\")\n",
    "    full_df = full_df.drop(columns=cols_to_drop)\n",
    "else:\n",
    "    print(\"No constant numerical columns found.\")"
   ]
  },
  {
   "cell_type": "code",
   "execution_count": 27,
   "id": "461fc11f-4a7c-450f-a601-bb8118db551a",
   "metadata": {},
   "outputs": [
    {
     "data": {
      "text/plain": [
       "(151533, 191)"
      ]
     },
     "execution_count": 27,
     "metadata": {},
     "output_type": "execute_result"
    }
   ],
   "source": [
    "full_df.shape"
   ]
  },
  {
   "cell_type": "code",
   "execution_count": 28,
   "id": "7ac008f8-6bde-4101-84ec-4e3474f4c645",
   "metadata": {},
   "outputs": [
    {
     "data": {
      "text/plain": [
       "malicious\n",
       "0    131433\n",
       "2     18332\n",
       "1      1768\n",
       "Name: count, dtype: int64"
      ]
     },
     "execution_count": 28,
     "metadata": {},
     "output_type": "execute_result"
    }
   ],
   "source": [
    "full_df['malicious'].value_counts()"
   ]
  },
  {
   "cell_type": "code",
   "execution_count": 29,
   "id": "87f4be79-e8fd-441e-90be-7ad85387a2a6",
   "metadata": {},
   "outputs": [],
   "source": [
    "# Unify all non-numeric columns to be strings\n",
    "features_to_unify = full_df.select_dtypes(exclude=np.number).columns\n",
    "features_to_unify = features_to_unify.drop('malicious', errors='ignore')\n",
    "\n",
    "if not features_to_unify.empty:\n",
    "    for col in features_to_unify:\n",
    "        full_df[col] = full_df[col].astype(str)\n"
   ]
  },
  {
   "cell_type": "code",
   "execution_count": 30,
   "id": "0f9f795c-0b86-477a-ad1c-2b558c396dbe",
   "metadata": {},
   "outputs": [
    {
     "name": "stdout",
     "output_type": "stream",
     "text": [
      "Server fine-tuning set created with 5304 samples.\n",
      "Server set distribution:\n",
      "malicious\n",
      "0    0.867270\n",
      "2    0.121041\n",
      "1    0.011689\n",
      "Name: proportion, dtype: float64\n",
      "✅ Data partitioned into 5 non-IID client datasets using a Dirichlet distribution.\n"
     ]
    }
   ],
   "source": [
    "# Creating Data Splits\n",
    "X = full_df.drop(columns=['malicious'])\n",
    "y = full_df['malicious']\n",
    "\n",
    "X_pool, X_test, y_pool, y_test = train_test_split(\n",
    "    X, y, test_size=0.3, random_state=42, stratify=y\n",
    ")\n",
    "\n",
    "X_client_pool, X_server, y_client_pool, y_server = train_test_split(\n",
    "    X_pool, y_pool,\n",
    "    test_size=0.05,\n",
    "    random_state=42,\n",
    "    stratify=y_pool \n",
    ")\n",
    "\n",
    "print(f\"Server fine-tuning set created with {len(X_server)} samples.\")\n",
    "print(f\"Server set distribution:\\n{y_server.value_counts(normalize=True)}\")\n",
    "\n",
    "\n",
    "pool_df = pd.concat([X_pool, y_pool], axis=1)\n",
    "\n",
    "# --- Dirichlet distribution logic ---\n",
    "num_classes = len(pool_df['malicious'].unique())\n",
    "\n",
    "class_distribution = np.random.dirichlet([dirichlet_alpha] * num_classes, NUM_CLIENTS)\n",
    "\n",
    "class_dfs = [pool_df[pool_df['malicious'] == i] for i in range(num_classes)]\n",
    "\n",
    "# Distribute the data to clients according to the generated recipes\n",
    "client_dfs = []\n",
    "for client_id in range(NUM_CLIENTS):\n",
    "    client_df_list = []\n",
    "    for class_id in range(num_classes):\n",
    "        # Get the recipe for this client and class\n",
    "        proportion = class_distribution[client_id, class_id]\n",
    "        # Calculate how many samples of this class the client gets\n",
    "        num_samples = int(proportion * len(class_dfs[class_id]))\n",
    "        # Take a random sample of that size\n",
    "        class_sample = class_dfs[class_id].sample(num_samples, random_state=42)\n",
    "        client_df_list.append(class_sample)\n",
    "    # Combine the samples from all classes into this client's final dataset\n",
    "    client_dfs.append(pd.concat(client_df_list))\n",
    "\n",
    "print(f\"✅ Data partitioned into {len(client_dfs)} non-IID client datasets using a Dirichlet distribution.\")"
   ]
  },
  {
   "cell_type": "code",
   "execution_count": 31,
   "id": "88f67b4b-83de-413a-81cb-40d58f55a502",
   "metadata": {},
   "outputs": [
    {
     "name": "stdout",
     "output_type": "stream",
     "text": [
      "Client 1 data distribution:\n",
      "malicious\n",
      "0    0.873604\n",
      "2    0.115420\n",
      "1    0.010975\n",
      "Name: proportion, dtype: float64\n",
      "\n",
      "Client 2 data distribution:\n",
      "malicious\n",
      "0    0.857639\n",
      "2    0.129694\n",
      "1    0.012667\n",
      "Name: proportion, dtype: float64\n",
      "\n",
      "Client 3 data distribution:\n",
      "malicious\n",
      "0    0.869908\n",
      "2    0.116689\n",
      "1    0.013403\n",
      "Name: proportion, dtype: float64\n",
      "\n",
      "Client 4 data distribution:\n",
      "malicious\n",
      "0    0.890514\n",
      "2    0.098408\n",
      "1    0.011077\n",
      "Name: proportion, dtype: float64\n",
      "\n",
      "Client 5 data distribution:\n",
      "malicious\n",
      "0    0.880293\n",
      "2    0.108839\n",
      "1    0.010868\n",
      "Name: proportion, dtype: float64\n",
      "\n"
     ]
    }
   ],
   "source": [
    "# Verify the non-IID distribution\n",
    "for i, client_df in enumerate(client_dfs):\n",
    "    print(f\"Client {i+1} data distribution:\\n{client_df['malicious'].value_counts(normalize=True)}\\n\")"
   ]
  },
  {
   "cell_type": "code",
   "execution_count": 32,
   "id": "d6d40ed6-58a6-4266-8eea-1942a83ff3ee",
   "metadata": {},
   "outputs": [],
   "source": [
    "# Preprocess Data (Scale and Encode)\n",
    "numerical_features = X_pool.select_dtypes(include=np.number).columns.tolist()\n",
    "categorical_features = X_pool.select_dtypes(exclude=np.number).columns.tolist()\n",
    "\n",
    "numeric_transformer = Pipeline(steps=[\n",
    "    ('imputer', SimpleImputer(strategy='median')),\n",
    "    ('scaler', MinMaxScaler()) # Using MinMaxScaler for [0, 1] range\n",
    "])\n",
    "categorical_transformer = Pipeline(steps=[\n",
    "    ('imputer', SimpleImputer(strategy='most_frequent')),\n",
    "    ('onehot', OneHotEncoder(handle_unknown='ignore', sparse_output=False))\n",
    "])\n",
    "preprocessor = ColumnTransformer(\n",
    "    transformers=[\n",
    "        ('num', numeric_transformer, numerical_features),\n",
    "        ('cat', categorical_transformer, categorical_features)\n",
    "    ],\n",
    "    remainder='passthrough'\n",
    ")"
   ]
  },
  {
   "cell_type": "code",
   "execution_count": 33,
   "id": "9907a87f-09f6-4470-b04d-c9549f23ff8b",
   "metadata": {},
   "outputs": [],
   "source": [
    "preprocessor.fit(X_pool)\n",
    "# Transform the global test set\n",
    "X_test_processed = preprocessor.transform(X_test)"
   ]
  },
  {
   "cell_type": "code",
   "execution_count": 34,
   "id": "0e930576-e578-4634-8f65-86ae5495a6c2",
   "metadata": {},
   "outputs": [],
   "source": [
    "# Preparing Sequences \n",
    "def create_supervised_sequences(X_data, y_data, seq_len):\n",
    "    sequences, labels = [], []\n",
    "    for i in range(len(X_data) - seq_len):\n",
    "        sequences.append(X_data[i:i + seq_len])\n",
    "        labels.append(y_data.iloc[i + seq_len - 1])\n",
    "    return np.array(sequences), np.array(labels)"
   ]
  },
  {
   "cell_type": "code",
   "execution_count": 35,
   "id": "37a989c6-5bae-4aaf-bd17-677b2a4b5501",
   "metadata": {},
   "outputs": [],
   "source": [
    "# Transformer Classifier Model\n",
    "class PositionalEncoding(nn.Module):\n",
    "    def __init__(self, d_model, dropout=0.1, max_len=5000):\n",
    "        super(PositionalEncoding, self).__init__()\n",
    "        self.dropout = nn.Dropout(p=dropout)\n",
    "        position = torch.arange(max_len).unsqueeze(1)\n",
    "        div_term = torch.exp(torch.arange(0, d_model, 2) * (-math.log(10000.0) / d_model))\n",
    "        pe = torch.zeros(max_len, 1, d_model)\n",
    "        pe[:, 0, 0::2] = torch.sin(position * div_term)\n",
    "        pe[:, 0, 1::2] = torch.cos(position * div_term)\n",
    "        self.register_buffer('pe', pe)\n",
    "\n",
    "    def forward(self, x):\n",
    "        x = x + self.pe[:x.size(0)]\n",
    "        return self.dropout(x)\n",
    "\n",
    "class TransformerClassifier(nn.Module):\n",
    "    def __init__(self, feature_size, d_model, n_heads, num_encoder_layers, num_classes, dropout_rate):\n",
    "        super(TransformerClassifier, self).__init__()\n",
    "        self.d_model = d_model\n",
    "        self.input_embedding = nn.Linear(feature_size, d_model)\n",
    "        self.pos_encoder = PositionalEncoding(d_model, dropout_rate)\n",
    "        encoder_layers = nn.TransformerEncoderLayer(d_model, n_heads, d_model * 4, dropout_rate, batch_first=True)\n",
    "        self.transformer_encoder = nn.TransformerEncoder(encoder_layers, num_encoder_layers)\n",
    "        self.decoder = nn.Linear(d_model, num_classes)\n",
    "\n",
    "    def forward(self, src):\n",
    "        src = self.input_embedding(src) * math.sqrt(self.d_model)\n",
    "        src = self.pos_encoder(src)\n",
    "        output = self.transformer_encoder(src)\n",
    "        # We take the output of the last time step to represent the whole sequence\n",
    "        prediction = self.decoder(output[:, -1, :])\n",
    "        return prediction"
   ]
  },
  {
   "cell_type": "code",
   "execution_count": 36,
   "id": "a237bedf-4223-403f-a3e1-58f2d866cfdb",
   "metadata": {},
   "outputs": [],
   "source": [
    "def client_update_fedavg(client_model, optimizer, criterion, train_loader, epochs):\n",
    "    \"\"\"Simulates a client training locally.\"\"\"\n",
    "    client_model.train()\n",
    "    for epoch in range(epochs):\n",
    "        for seqs, labels in train_loader:\n",
    "            seqs, labels = seqs.to(device), labels.to(device)\n",
    "            optimizer.zero_grad()\n",
    "            outputs = client_model(seqs)\n",
    "            loss = criterion(outputs, labels)\n",
    "            loss.backward()\n",
    "            torch.nn.utils.clip_grad_norm_(client_model.parameters(), max_norm=1.0)\n",
    "            optimizer.step()\n",
    "    return client_model.state_dict()\n",
    "\n",
    "def federated_average(model_weights):\n",
    "    \"\"\"Averages the weights from multiple client models.\"\"\"\n",
    "    avg_weights = copy.deepcopy(model_weights[0])\n",
    "    for key in avg_weights.keys():\n",
    "        for i in range(1, len(model_weights)):\n",
    "            avg_weights[key] += model_weights[i][key]\n",
    "        avg_weights[key] = torch.div(avg_weights[key], len(model_weights))\n",
    "    return avg_weights"
   ]
  },
  {
   "cell_type": "code",
   "execution_count": 37,
   "id": "1c2cd5c1-10c7-47e8-b7b7-e4c43746b00d",
   "metadata": {},
   "outputs": [],
   "source": [
    "N_FEATURES = X_test_processed.shape[1] # Get feature count from processed data\n",
    "NUM_CLASSES = len(y.unique())\n",
    "\n",
    "global_model = TransformerClassifier(\n",
    "    feature_size=N_FEATURES, d_model=D_MODEL, n_heads=N_HEADS,\n",
    "    num_encoder_layers=NUM_ENCODER_LAYERS, num_classes=NUM_CLASSES, dropout_rate=DROPOUT_RATE\n",
    ").to(device)"
   ]
  },
  {
   "cell_type": "code",
   "execution_count": 38,
   "id": "72af684c-e0a9-4b4f-917a-dc275b8b438b",
   "metadata": {},
   "outputs": [],
   "source": [
    "# This new function takes arguments and has the fix for the IndexError\n",
    "def evaluate_global_model(model, preprocessor, X_test, y_test, sequence_length, batch_size):\n",
    "    \"\"\"\n",
    "    Evaluates the final trained global model on the hold-out global test set.\n",
    "    \"\"\"\n",
    "    print(\"\\n--- Evaluating Global Model on Test Set ---\")\n",
    "    model.eval()\n",
    "    device = next(model.parameters()).device\n",
    "\n",
    "    # --- Prepare the Test Data ---\n",
    "    X_test_processed = preprocessor.transform(X_test)\n",
    "\n",
    "    # This is the inner function with the fix\n",
    "    def create_supervised_sequences_robust(X_data, y_data, seq_len):\n",
    "        sequences, labels = [], []\n",
    "        # THE FIX: Reset the index of the y_data Series to ensure safe positional access\n",
    "        y_data_reset = y_data.reset_index(drop=True)\n",
    "        \n",
    "        for i in range(len(X_data) - seq_len):\n",
    "            sequences.append(X_data[i:i + seq_len])\n",
    "            # Use the reset Series for lookup\n",
    "            labels.append(y_data_reset.iloc[i + seq_len - 1])\n",
    "        return np.array(sequences), np.array(labels)\n",
    "\n",
    "    X_test_seq, y_test_seq = create_supervised_sequences_robust(X_test_processed, y_test, sequence_length)\n",
    "    \n",
    "    test_dataset = TensorDataset(torch.tensor(X_test_seq, dtype=torch.float32), torch.tensor(y_test_seq, dtype=torch.long))\n",
    "    test_loader = DataLoader(test_dataset, batch_size=batch_size, shuffle=False)\n",
    "    \n",
    "    # --- Make Predictions ---\n",
    "    all_preds = []\n",
    "    all_true = []\n",
    "    with torch.no_grad():\n",
    "        for seqs, labels in test_loader:\n",
    "            seqs = seqs.to(device)\n",
    "            outputs = model(seqs)\n",
    "            _, predicted_labels = torch.max(outputs, 1)\n",
    "            all_preds.extend(predicted_labels.cpu().numpy())\n",
    "            all_true.extend(labels.numpy())\n",
    "\n",
    "    # --- Display Results ---\n",
    "    target_names = ['Normal (0)', 'Benign (1)', 'Attack (2)']\n",
    "    print(\"\\n--- Classification Report (Global Model) ---\")\n",
    "    print(classification_report(all_true, all_preds, target_names=target_names))\n"
   ]
  },
  {
   "cell_type": "code",
   "execution_count": null,
   "id": "8b2174c0-a706-4b80-a01e-32a9127d66eb",
   "metadata": {
    "editable": true,
    "slideshow": {
     "slide_type": ""
    },
    "tags": []
   },
   "outputs": [
    {
     "name": "stdout",
     "output_type": "stream",
     "text": [
      "\n",
      "--- Communication Round 1/100 ---\n",
      "Client 1 training...\n",
      "Client 2 training...\n",
      "Client 3 training...\n",
      "Client 4 training...\n",
      "Client 5 training...\n",
      "Server aggregating client model weights...\n",
      "Server fine-tuning the global model...\n",
      "\n",
      "--- Communication Round 2/100 ---\n",
      "Client 1 training...\n",
      "Client 2 training...\n",
      "Client 3 training...\n",
      "Client 4 training...\n",
      "Client 5 training...\n",
      "Server aggregating client model weights...\n",
      "Server fine-tuning the global model...\n",
      "\n",
      "--- Communication Round 3/100 ---\n",
      "Client 1 training...\n",
      "Client 2 training...\n",
      "Client 3 training...\n",
      "Client 4 training...\n",
      "Client 5 training...\n",
      "Server aggregating client model weights...\n",
      "Server fine-tuning the global model...\n",
      "\n",
      "--- Communication Round 4/100 ---\n",
      "Client 1 training...\n",
      "Client 2 training...\n",
      "Client 3 training...\n",
      "Client 4 training...\n",
      "Client 5 training...\n",
      "Server aggregating client model weights...\n",
      "Server fine-tuning the global model...\n",
      "\n",
      "--- Communication Round 5/100 ---\n",
      "Client 1 training...\n",
      "Client 2 training...\n",
      "Client 3 training...\n",
      "Client 4 training...\n",
      "Client 5 training...\n",
      "Server aggregating client model weights...\n",
      "Server fine-tuning the global model...\n",
      "\n",
      "--- Communication Round 6/100 ---\n",
      "Client 1 training...\n",
      "Client 2 training...\n",
      "Client 3 training...\n",
      "Client 4 training...\n",
      "Client 5 training...\n",
      "Server aggregating client model weights...\n",
      "Server fine-tuning the global model...\n",
      "\n",
      "--- Communication Round 7/100 ---\n",
      "Client 1 training...\n",
      "Client 2 training...\n",
      "Client 3 training...\n",
      "Client 4 training...\n",
      "Client 5 training...\n",
      "Server aggregating client model weights...\n",
      "Server fine-tuning the global model...\n",
      "\n",
      "--- Communication Round 8/100 ---\n",
      "Client 1 training...\n",
      "Client 2 training...\n",
      "Client 3 training...\n",
      "Client 4 training...\n",
      "Client 5 training...\n",
      "Server aggregating client model weights...\n",
      "Server fine-tuning the global model...\n",
      "\n",
      "--- Communication Round 9/100 ---\n",
      "Client 1 training...\n",
      "Client 2 training...\n",
      "Client 3 training...\n",
      "Client 4 training...\n",
      "Client 5 training...\n",
      "Server aggregating client model weights...\n",
      "Server fine-tuning the global model...\n",
      "\n",
      "--- Communication Round 10/100 ---\n",
      "Client 1 training...\n",
      "Client 2 training...\n",
      "Client 3 training...\n",
      "Client 4 training...\n",
      "Client 5 training...\n",
      "Server aggregating client model weights...\n",
      "Server fine-tuning the global model...\n",
      "\n",
      "--- Evaluating Global Model on Test Set ---\n",
      "\n",
      "--- Classification Report (Global Model) ---\n",
      "              precision    recall  f1-score   support\n",
      "\n",
      "  Normal (0)       0.87      0.97      0.92     39422\n",
      "  Benign (1)       0.06      0.00      0.00       529\n",
      "  Attack (2)       0.29      0.10      0.14      5499\n",
      "\n",
      "    accuracy                           0.85     45450\n",
      "   macro avg       0.41      0.36      0.36     45450\n",
      "weighted avg       0.79      0.85      0.81     45450\n",
      "\n",
      "\n",
      "--- Communication Round 11/100 ---\n",
      "Client 1 training...\n",
      "Client 2 training...\n",
      "Client 3 training...\n",
      "Client 4 training...\n",
      "Client 5 training...\n",
      "Server aggregating client model weights...\n",
      "Server fine-tuning the global model...\n",
      "\n",
      "--- Communication Round 12/100 ---\n",
      "Client 1 training...\n",
      "Client 2 training...\n",
      "Client 3 training...\n",
      "Client 4 training...\n",
      "Client 5 training...\n",
      "Server aggregating client model weights...\n",
      "Server fine-tuning the global model...\n",
      "\n",
      "--- Communication Round 13/100 ---\n",
      "Client 1 training...\n",
      "Client 2 training...\n",
      "Client 3 training...\n",
      "Client 4 training...\n",
      "Client 5 training...\n",
      "Server aggregating client model weights...\n",
      "Server fine-tuning the global model...\n",
      "\n",
      "--- Communication Round 14/100 ---\n",
      "Client 1 training...\n",
      "Client 2 training...\n",
      "Client 3 training...\n",
      "Client 4 training...\n",
      "Client 5 training...\n",
      "Server aggregating client model weights...\n",
      "Server fine-tuning the global model...\n",
      "\n",
      "--- Communication Round 15/100 ---\n",
      "Client 1 training...\n",
      "Client 2 training...\n",
      "Client 3 training...\n",
      "Client 4 training...\n",
      "Client 5 training...\n",
      "Server aggregating client model weights...\n",
      "Server fine-tuning the global model...\n",
      "\n",
      "--- Communication Round 16/100 ---\n",
      "Client 1 training...\n",
      "Client 2 training...\n",
      "Client 3 training...\n",
      "Client 4 training...\n",
      "Client 5 training...\n",
      "Server aggregating client model weights...\n",
      "Server fine-tuning the global model...\n",
      "\n",
      "--- Communication Round 17/100 ---\n",
      "Client 1 training...\n",
      "Client 2 training...\n",
      "Client 3 training...\n",
      "Client 4 training...\n",
      "Client 5 training...\n",
      "Server aggregating client model weights...\n",
      "Server fine-tuning the global model...\n",
      "\n",
      "--- Communication Round 18/100 ---\n",
      "Client 1 training...\n",
      "Client 2 training...\n",
      "Client 3 training...\n",
      "Client 4 training...\n",
      "Client 5 training...\n",
      "Server aggregating client model weights...\n",
      "Server fine-tuning the global model...\n",
      "\n",
      "--- Communication Round 19/100 ---\n",
      "Client 1 training...\n",
      "Client 2 training...\n",
      "Client 3 training...\n",
      "Client 4 training...\n",
      "Client 5 training...\n"
     ]
    }
   ],
   "source": [
    "for round_idx in range(NUM_ROUNDS):\n",
    "    print(f\"\\n--- Communication Round {round_idx+1}/{NUM_ROUNDS} ---\")\n",
    "    local_weights = []\n",
    "\n",
    "    for client_id in range(NUM_CLIENTS):\n",
    "        client_X = client_dfs[client_id].drop(columns=['malicious'])\n",
    "        client_y = client_dfs[client_id]['malicious']\n",
    "        X_client_processed = preprocessor.transform(client_X)\n",
    "        X_client_seq, y_client_seq = create_supervised_sequences(X_client_processed, client_y, SEQUENCE_LENGTH)\n",
    "        client_dataset = TensorDataset(torch.tensor(X_client_seq, dtype=torch.float32), torch.tensor(y_client_seq, dtype=torch.long))\n",
    "        client_loader = DataLoader(client_dataset, batch_size=BATCH_SIZE, shuffle=True)\n",
    "        \n",
    "        local_model = copy.deepcopy(global_model).to(device)\n",
    "        \n",
    "        class_counts = client_y.value_counts().sort_index()\n",
    "        weights = torch.ones(NUM_CLASSES, dtype=torch.float32)\n",
    "        for class_idx, count in class_counts.items():\n",
    "            if class_idx < len(weights):\n",
    "                weights[class_idx] = 1.0 / count if count > 0 else 1.0\n",
    "        weights = weights / weights.sum()\n",
    "        criterion = nn.CrossEntropyLoss(weight=weights.to(device))\n",
    "        optimizer = torch.optim.Adam(local_model.parameters(), lr=LEARNING_RATE)\n",
    "\n",
    "        print(f\"Client {client_id+1} training...\")\n",
    "        # Call the standard FedAvg update function\n",
    "        updated_weights = client_update_fedavg(local_model, optimizer, criterion, client_loader, epochs=EPOCHS_PER_CLIENT)\n",
    "        local_weights.append(updated_weights)\n",
    "    \n",
    "    print(\"Server aggregating client model weights...\")\n",
    "    global_weights = federated_average(local_weights)\n",
    "    global_model.load_state_dict(global_weights)\n",
    "\n",
    "    # --- NEW: Server Fine-Tuning Step ---\n",
    "    print(\"Server fine-tuning the global model...\")\n",
    "    # Prepare the server's small, balanced dataset\n",
    "    X_server_processed = preprocessor.transform(X_server)\n",
    "    X_server_seq, y_server_seq = create_supervised_sequences(X_server_processed, y_server, SEQUENCE_LENGTH)\n",
    "    server_dataset = TensorDataset(torch.tensor(X_server_seq, dtype=torch.float32), torch.tensor(y_server_seq, dtype=torch.long))\n",
    "    server_loader = DataLoader(server_dataset, batch_size=BATCH_SIZE, shuffle=True)\n",
    "    \n",
    "    # Get the optimizer and criterion for the server fine-tuning step\n",
    "    optimizer = torch.optim.Adam(global_model.parameters(), lr=LEARNING_RATE / 10) # Use a smaller LR for fine-tuning\n",
    "    criterion = nn.CrossEntropyLoss() # No class weights needed as the data is balanced\n",
    "\n",
    "    # Fine-tune the global model for a few epochs\n",
    "    global_model.train()\n",
    "    for _ in range(SERVER_FINETUNE_EPOCHS):\n",
    "        for seqs, labels in server_loader:\n",
    "            seqs, labels = seqs.to(device), labels.to(device)\n",
    "            optimizer.zero_grad()\n",
    "            outputs = global_model(seqs)\n",
    "            loss = criterion(outputs, labels)\n",
    "            loss.backward()\n",
    "            optimizer.step()\n",
    "    if (round_idx + 1) % 10 == 0:\n",
    "        evaluate_global_model(\n",
    "    model=global_model,\n",
    "    preprocessor=preprocessor,\n",
    "    X_test=X_test,\n",
    "    y_test=y_test,\n",
    "    sequence_length=SEQUENCE_LENGTH,\n",
    "    batch_size=BATCH_SIZE\n",
    ")\n",
    "\n",
    "\n",
    "print(\"\\n--- Federated Training Complete ---\")\n"
   ]
  }
 ],
 "metadata": {
  "kernelspec": {
   "display_name": "Venv",
   "language": "python",
   "name": ".venv"
  },
  "language_info": {
   "codemirror_mode": {
    "name": "ipython",
    "version": 3
   },
   "file_extension": ".py",
   "mimetype": "text/x-python",
   "name": "python",
   "nbconvert_exporter": "python",
   "pygments_lexer": "ipython3",
   "version": "3.11.9"
  }
 },
 "nbformat": 4,
 "nbformat_minor": 5
}
