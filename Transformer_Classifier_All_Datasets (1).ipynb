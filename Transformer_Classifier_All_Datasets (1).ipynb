{
 "cells": [
  {
   "cell_type": "code",
   "execution_count": 1,
   "id": "53a58cfe-673d-47c7-8025-21ae2e541c3a",
   "metadata": {},
   "outputs": [],
   "source": [
    "import pandas as pd\n",
    "import numpy as np\n",
    "import torch\n",
    "import torch.nn as nn\n",
    "from torch.utils.data import DataLoader, TensorDataset\n",
    "from sklearn.preprocessing import MinMaxScaler, RobustScaler\n",
    "from sklearn.metrics import classification_report, confusion_matrix, ConfusionMatrixDisplay\n",
    "from sklearn.compose import ColumnTransformer\n",
    "from sklearn.pipeline import Pipeline\n",
    "from sklearn.preprocessing import StandardScaler, OneHotEncoder\n",
    "from sklearn.impute import SimpleImputer\n",
    "import matplotlib.pyplot as plt\n",
    "from sklearn.model_selection import train_test_split\n",
    "import math"
   ]
  },
  {
   "cell_type": "code",
   "execution_count": 15,
   "id": "d88155fb-c435-473a-b65c-e286d7039886",
   "metadata": {},
   "outputs": [],
   "source": [
    "# Hyperparameters from the paper/our setup\n",
    "SEQUENCE_LENGTH = 10\n",
    "BATCH_SIZE = 128\n",
    "NUM_EPOCHS = 500        \n",
    "D_MODEL = 128           \n",
    "N_HEADS = 4             \n",
    "NUM_ENCODER_LAYERS = 3  \n",
    "DROPOUT_RATE = 0.1      \n",
    "LEARNING_RATE = 1e-4    \n",
    "THRESHOLD_PERCENTILE = 95 "
   ]
  },
  {
   "cell_type": "code",
   "execution_count": 3,
   "id": "5f9e19bc-fe11-47a8-9de7-076d6e0ddc34",
   "metadata": {},
   "outputs": [
    {
     "name": "stdout",
     "output_type": "stream",
     "text": [
      "--- Using CUDA device for training and evaluation ---\n"
     ]
    }
   ],
   "source": [
    "device = 'cuda' if torch.cuda.is_available() else 'cpu'\n",
    "print(f\"--- Using {device.upper()} device for training and evaluation ---\")"
   ]
  },
  {
   "cell_type": "code",
   "execution_count": 14,
   "id": "525ed3ba-9e3d-46a1-bdfd-2dfad8334d04",
   "metadata": {},
   "outputs": [],
   "source": [
    "# List of all data files to be loaded\n",
    "files_to_load = [\n",
    "    'train_basic.csv',\n",
    "    'test_basic.csv',\n",
    "    'train_semiurban.csv',\n",
    "    'test_semiurban.csv',\n",
    "    'test_rural.csv'\n",
    "]"
   ]
  },
  {
   "cell_type": "code",
   "execution_count": 5,
   "id": "a96e2445-713d-4bdb-80b7-d9079668f0a0",
   "metadata": {},
   "outputs": [
    {
     "name": "stderr",
     "output_type": "stream",
     "text": [
      "/tmp/ipykernel_810619/3454815949.py:5: DtypeWarning: Columns (0,304,307,344,347,397,398,399,400,401,402,413,414,423,424) have mixed types. Specify dtype option on import or set low_memory=False.\n",
      "  df = pd.read_csv(path)\n"
     ]
    },
    {
     "name": "stdout",
     "output_type": "stream",
     "text": [
      "Successfully loaded train_basic.csv\n",
      "Successfully loaded test_basic.csv\n"
     ]
    },
    {
     "name": "stderr",
     "output_type": "stream",
     "text": [
      "/tmp/ipykernel_810619/3454815949.py:5: DtypeWarning: Columns (0,201,205,212,213,233,237,241,245,256,259,275,280,283,307,328,331,336,339,355,370,374,379,380,382,387,388,389,390,391,392,393,394,395,396,400,401,402,404,405,406,407,408,409,410,411,412,413,414,417,418,421,422,423,424,425,426,427,428,429,430,431,432,442) have mixed types. Specify dtype option on import or set low_memory=False.\n",
      "  df = pd.read_csv(path)\n"
     ]
    }
   ],
   "source": [
    "list_of_dfs = []\n",
    "for filename in files_to_load:\n",
    "    path = f\"datasets/{filename}\"\n",
    "    try:\n",
    "        df = pd.read_csv(path)\n",
    "        # Optional: Add a column to track the origin of the data\n",
    "        df['origin'] = filename.split('.')[0]\n",
    "        list_of_dfs.append(df)\n",
    "        print(f\"Successfully loaded {filename}\")\n",
    "    except FileNotFoundError:\n",
    "        print(f\"Warning: Could not find file {filename}. Skipping.\")"
   ]
  },
  {
   "cell_type": "code",
   "execution_count": 6,
   "id": "3a831af8-330b-494f-8e36-fb5cb6b680e1",
   "metadata": {},
   "outputs": [
    {
     "name": "stdout",
     "output_type": "stream",
     "text": [
      "(43204, 473)\n",
      "(43204, 473)\n"
     ]
    }
   ],
   "source": [
    "for i in list_of_dfs:\n",
    "    print(i.shape)"
   ]
  },
  {
   "cell_type": "code",
   "execution_count": 7,
   "id": "3d27b8b7-d564-4106-809b-5800f1ea12aa",
   "metadata": {},
   "outputs": [],
   "source": [
    "full_df = pd.concat(list_of_dfs, ignore_index=True)"
   ]
  },
  {
   "cell_type": "code",
   "execution_count": 8,
   "id": "7d19a5f4-9f6e-4831-89bc-48a290097c01",
   "metadata": {},
   "outputs": [],
   "source": [
    "def map_malicious_to_numeric(value):\n",
    "    val_str = str(value).strip()\n",
    "    if val_str == 'False': return 0\n",
    "    elif 'benign' in val_str: return 1\n",
    "    elif val_str.isdigit(): return 2\n",
    "    else: return 0\n",
    "\n",
    "full_df['malicious'] = full_df['malicious'].apply(map_malicious_to_numeric)"
   ]
  },
  {
   "cell_type": "code",
   "execution_count": 9,
   "id": "a49b3bc6-14ba-43e3-af44-e501939fa29b",
   "metadata": {},
   "outputs": [
    {
     "data": {
      "text/plain": [
       "(86408, 473)"
      ]
     },
     "execution_count": 9,
     "metadata": {},
     "output_type": "execute_result"
    }
   ],
   "source": [
    "full_df.shape"
   ]
  },
  {
   "cell_type": "code",
   "execution_count": 10,
   "id": "b532173b-35db-440d-8bdd-6644cfe45e97",
   "metadata": {},
   "outputs": [
    {
     "name": "stdout",
     "output_type": "stream",
     "text": [
      "Found and dropping 135 constant numerical columns.\n"
     ]
    }
   ],
   "source": [
    "# Remove constant numerical columns based on the full dataset\n",
    "std_dev_full = full_df.std(numeric_only=True)\n",
    "cols_to_drop = std_dev_full[std_dev_full == 0].index.tolist()\n",
    "\n",
    "if cols_to_drop:\n",
    "    print(f\"Found and dropping {len(cols_to_drop)} constant numerical columns.\")\n",
    "    full_df = full_df.drop(columns=cols_to_drop)\n",
    "else:\n",
    "    print(\"No constant numerical columns found.\")"
   ]
  },
  {
   "cell_type": "code",
   "execution_count": 11,
   "id": "461fc11f-4a7c-450f-a601-bb8118db551a",
   "metadata": {},
   "outputs": [
    {
     "data": {
      "text/plain": [
       "(86408, 338)"
      ]
     },
     "execution_count": 11,
     "metadata": {},
     "output_type": "execute_result"
    }
   ],
   "source": [
    "full_df.shape"
   ]
  },
  {
   "cell_type": "code",
   "execution_count": 12,
   "id": "7ac008f8-6bde-4101-84ec-4e3474f4c645",
   "metadata": {},
   "outputs": [
    {
     "data": {
      "text/plain": [
       "malicious\n",
       "0    80170\n",
       "2     5745\n",
       "1      493\n",
       "Name: count, dtype: int64"
      ]
     },
     "execution_count": 12,
     "metadata": {},
     "output_type": "execute_result"
    }
   ],
   "source": [
    "full_df['malicious'].value_counts()"
   ]
  },
  {
   "cell_type": "code",
   "execution_count": 13,
   "id": "87f4be79-e8fd-441e-90be-7ad85387a2a6",
   "metadata": {},
   "outputs": [],
   "source": [
    "# Unify all non-numeric columns to be strings\n",
    "features_to_unify = full_df.select_dtypes(exclude=np.number).columns\n",
    "features_to_unify = features_to_unify.drop('malicious', errors='ignore')\n",
    "\n",
    "if not features_to_unify.empty:\n",
    "    for col in features_to_unify:\n",
    "        full_df[col] = full_df[col].astype(str)\n"
   ]
  },
  {
   "cell_type": "code",
   "execution_count": 15,
   "id": "0f9f795c-0b86-477a-ad1c-2b558c396dbe",
   "metadata": {},
   "outputs": [],
   "source": [
    "# Create a Stratified Train/Test Split\n",
    "X = full_df.drop(columns=['malicious'])\n",
    "y = full_df['malicious']\n",
    "\n",
    "X_train, X_test, y_train, y_test = train_test_split(\n",
    "    X, y,\n",
    "    test_size=0.3,       # Use 30% of the data for testing\n",
    "    random_state=42,     # For reproducible results\n",
    "    stratify=y           \n",
    ")"
   ]
  },
  {
   "cell_type": "code",
   "execution_count": 16,
   "id": "d6d40ed6-58a6-4266-8eea-1942a83ff3ee",
   "metadata": {},
   "outputs": [],
   "source": [
    "# Preprocess Data (Scale and Encode)\n",
    "numerical_features = X_train.select_dtypes(include=np.number).columns.tolist()\n",
    "categorical_features = X_train.select_dtypes(exclude=np.number).columns.tolist()\n",
    "\n",
    "numeric_transformer = Pipeline(steps=[\n",
    "    ('imputer', SimpleImputer(strategy='median')),\n",
    "    ('scaler', MinMaxScaler()) # Using MinMaxScaler for [0, 1] range\n",
    "])\n",
    "categorical_transformer = Pipeline(steps=[\n",
    "    ('imputer', SimpleImputer(strategy='most_frequent')),\n",
    "    ('onehot', OneHotEncoder(handle_unknown='ignore', sparse_output=False))\n",
    "])\n",
    "preprocessor = ColumnTransformer(\n",
    "    transformers=[\n",
    "        ('num', numeric_transformer, numerical_features),\n",
    "        ('cat', categorical_transformer, categorical_features)\n",
    "    ],\n",
    "    remainder='passthrough'\n",
    ")\n"
   ]
  },
  {
   "cell_type": "code",
   "execution_count": 17,
   "id": "316564ee-7e46-4812-8c9d-63bc32bd712b",
   "metadata": {},
   "outputs": [],
   "source": [
    "# Fit the preprocessor on the new X_train and transform both sets\n",
    "X_train_processed = preprocessor.fit_transform(X_train)\n",
    "X_test_processed = preprocessor.transform(X_test)"
   ]
  },
  {
   "cell_type": "code",
   "execution_count": 16,
   "id": "9907a87f-09f6-4470-b04d-c9549f23ff8b",
   "metadata": {},
   "outputs": [],
   "source": [
    "# Prepare Sequences for SUPERVISED Learning\n",
    "def create_supervised_sequences(X_data, y_data, seq_len):\n",
    "    sequences, labels = [], []\n",
    "    for i in range(len(X_data) - seq_len):\n",
    "        sequences.append(X_data[i:i + seq_len])\n",
    "        labels.append(y_data.iloc[i + seq_len - 1])\n",
    "    return np.array(sequences), np.array(labels)\n"
   ]
  },
  {
   "cell_type": "code",
   "execution_count": 19,
   "id": "edfc08cc-4c2d-4029-86f7-340e139dbb3e",
   "metadata": {},
   "outputs": [],
   "source": [
    "X_train_seq, y_train_seq = create_supervised_sequences(X_train_processed, y_train, SEQUENCE_LENGTH)\n",
    "X_test_seq, y_test_seq = create_supervised_sequences(X_test_processed, y_test, SEQUENCE_LENGTH)\n",
    "\n",
    "\n",
    "X_train_tensor = torch.tensor(X_train_seq, dtype=torch.float32)\n",
    "y_train_tensor = torch.tensor(y_train_seq, dtype=torch.long)\n",
    "X_test_tensor = torch.tensor(X_test_seq, dtype=torch.float32)\n",
    "y_test_tensor = torch.tensor(y_test_seq, dtype=torch.long)\n",
    "\n",
    "train_dataset = TensorDataset(X_train_tensor, y_train_tensor)\n",
    "train_loader = DataLoader(train_dataset, batch_size=BATCH_SIZE, shuffle=True)\n",
    "test_dataset = TensorDataset(X_test_tensor, y_test_tensor)\n",
    "test_loader = DataLoader(test_dataset, batch_size=BATCH_SIZE, shuffle=False)"
   ]
  },
  {
   "cell_type": "code",
   "execution_count": 20,
   "id": "37a989c6-5bae-4aaf-bd17-677b2a4b5501",
   "metadata": {},
   "outputs": [],
   "source": [
    "# Define the Transformer Classifier Model\n",
    "class PositionalEncoding(nn.Module):\n",
    "    def __init__(self, d_model, dropout=0.1, max_len=5000):\n",
    "        super(PositionalEncoding, self).__init__()\n",
    "        self.dropout = nn.Dropout(p=dropout)\n",
    "        position = torch.arange(max_len).unsqueeze(1)\n",
    "        div_term = torch.exp(torch.arange(0, d_model, 2) * (-math.log(10000.0) / d_model))\n",
    "        pe = torch.zeros(max_len, 1, d_model)\n",
    "        pe[:, 0, 0::2] = torch.sin(position * div_term)\n",
    "        pe[:, 0, 1::2] = torch.cos(position * div_term)\n",
    "        self.register_buffer('pe', pe)\n",
    "\n",
    "    def forward(self, x):\n",
    "        x = x + self.pe[:x.size(0)]\n",
    "        return self.dropout(x)\n",
    "\n",
    "class TransformerClassifier(nn.Module):\n",
    "    def __init__(self, feature_size, d_model, n_heads, num_encoder_layers, num_classes, dropout_rate):\n",
    "        super(TransformerClassifier, self).__init__()\n",
    "        self.d_model = d_model\n",
    "        self.input_embedding = nn.Linear(feature_size, d_model)\n",
    "        self.pos_encoder = PositionalEncoding(d_model, dropout_rate)\n",
    "        encoder_layers = nn.TransformerEncoderLayer(d_model, n_heads, d_model * 4, dropout_rate, batch_first=True)\n",
    "        self.transformer_encoder = nn.TransformerEncoder(encoder_layers, num_encoder_layers)\n",
    "        self.decoder = nn.Linear(d_model, num_classes)\n",
    "\n",
    "    def forward(self, src):\n",
    "        src = self.input_embedding(src) * math.sqrt(self.d_model)\n",
    "        src = self.pos_encoder(src)\n",
    "        output = self.transformer_encoder(src)\n",
    "        # We take the output of the last time step to represent the whole sequence\n",
    "        prediction = self.decoder(output[:, -1, :])\n",
    "        return prediction"
   ]
  },
  {
   "cell_type": "code",
   "execution_count": 21,
   "id": "1c2cd5c1-10c7-47e8-b7b7-e4c43746b00d",
   "metadata": {},
   "outputs": [
    {
     "name": "stdout",
     "output_type": "stream",
     "text": [
      "\n",
      "--- Starting Supervised Transformer Model Training (500 Epochs) ---\n",
      "Epoch [5/500], Loss: 0.658021\n",
      "Epoch [10/500], Loss: 1.569908\n",
      "Epoch [15/500], Loss: 0.541121\n",
      "Epoch [20/500], Loss: 0.232988\n",
      "Epoch [25/500], Loss: 0.230365\n",
      "Epoch [30/500], Loss: 0.207012\n",
      "Epoch [35/500], Loss: 0.465214\n",
      "Epoch [40/500], Loss: 1.318161\n",
      "Epoch [45/500], Loss: 0.100937\n",
      "Epoch [50/500], Loss: 0.152453\n",
      "Epoch [55/500], Loss: 0.237560\n",
      "Epoch [60/500], Loss: 0.188413\n",
      "Epoch [65/500], Loss: 0.089614\n",
      "Epoch [70/500], Loss: 0.335368\n",
      "Epoch [75/500], Loss: 0.190046\n",
      "Epoch [80/500], Loss: 0.123128\n",
      "Epoch [85/500], Loss: 0.102225\n",
      "Epoch [90/500], Loss: 0.223132\n",
      "Epoch [95/500], Loss: 0.107331\n",
      "Epoch [100/500], Loss: 0.190896\n",
      "Epoch [105/500], Loss: 0.104088\n",
      "Epoch [110/500], Loss: 0.102881\n",
      "Epoch [115/500], Loss: 0.043582\n",
      "Epoch [120/500], Loss: 0.299565\n",
      "Epoch [125/500], Loss: 0.073645\n",
      "Epoch [130/500], Loss: 0.273023\n",
      "Epoch [135/500], Loss: 0.041130\n",
      "Epoch [140/500], Loss: 0.130231\n",
      "Epoch [145/500], Loss: 0.045980\n",
      "Epoch [150/500], Loss: 0.046848\n",
      "Epoch [155/500], Loss: 0.066765\n",
      "Epoch [160/500], Loss: 0.061570\n",
      "Epoch [165/500], Loss: 0.032948\n",
      "Epoch [170/500], Loss: 0.060062\n",
      "Epoch [175/500], Loss: 0.089980\n",
      "Epoch [180/500], Loss: 0.270183\n",
      "Epoch [185/500], Loss: 0.058526\n",
      "Epoch [190/500], Loss: 0.098346\n",
      "Epoch [195/500], Loss: 0.035016\n",
      "Epoch [200/500], Loss: 0.036463\n",
      "Epoch [205/500], Loss: 0.193082\n",
      "Epoch [210/500], Loss: 0.158455\n",
      "Epoch [215/500], Loss: 0.019676\n",
      "Epoch [220/500], Loss: 0.068119\n",
      "Epoch [225/500], Loss: 0.134578\n",
      "Epoch [230/500], Loss: 0.034523\n",
      "Epoch [235/500], Loss: 0.015021\n",
      "Epoch [240/500], Loss: 0.046083\n",
      "Epoch [245/500], Loss: 0.119518\n",
      "Epoch [250/500], Loss: 0.018948\n",
      "Epoch [255/500], Loss: 0.072471\n",
      "Epoch [260/500], Loss: 0.016794\n",
      "Epoch [265/500], Loss: 0.052133\n",
      "Epoch [270/500], Loss: 0.117647\n",
      "Epoch [275/500], Loss: 0.022626\n",
      "Epoch [280/500], Loss: 0.153874\n",
      "Epoch [285/500], Loss: 0.087391\n",
      "Epoch [290/500], Loss: 0.049853\n",
      "Epoch [295/500], Loss: 0.030990\n",
      "Epoch [300/500], Loss: 0.062443\n",
      "Epoch [305/500], Loss: 0.020546\n",
      "Epoch [310/500], Loss: 0.030482\n",
      "Epoch [315/500], Loss: 0.081432\n",
      "Epoch [320/500], Loss: 0.063761\n",
      "Epoch [325/500], Loss: 0.029244\n",
      "Epoch [330/500], Loss: 0.039375\n",
      "Epoch [335/500], Loss: 0.063844\n",
      "Epoch [340/500], Loss: 0.030838\n",
      "Epoch [345/500], Loss: 0.036210\n",
      "Epoch [350/500], Loss: 0.074053\n",
      "Epoch [355/500], Loss: 0.005107\n",
      "Epoch [360/500], Loss: 0.017695\n",
      "Epoch [365/500], Loss: 0.021259\n",
      "Epoch [370/500], Loss: 0.016689\n",
      "Epoch [375/500], Loss: 0.009001\n",
      "Epoch [380/500], Loss: 0.021421\n",
      "Epoch [385/500], Loss: 0.037845\n",
      "Epoch [390/500], Loss: 0.012116\n",
      "Epoch [395/500], Loss: 0.004413\n",
      "Epoch [400/500], Loss: 0.005800\n",
      "Epoch [405/500], Loss: 0.017630\n",
      "Epoch [410/500], Loss: 0.041500\n",
      "Epoch [415/500], Loss: 0.011538\n",
      "Epoch [420/500], Loss: 0.009039\n",
      "Epoch [425/500], Loss: 0.000444\n",
      "Epoch [430/500], Loss: 0.021012\n",
      "Epoch [435/500], Loss: 0.020070\n",
      "Epoch [440/500], Loss: 0.006550\n",
      "Epoch [445/500], Loss: 0.009206\n",
      "Epoch [450/500], Loss: 0.006413\n",
      "Epoch [455/500], Loss: 0.013396\n",
      "Epoch [460/500], Loss: 0.024748\n",
      "Epoch [465/500], Loss: 0.002197\n",
      "Epoch [470/500], Loss: 0.012668\n",
      "Epoch [475/500], Loss: 0.025679\n",
      "Epoch [480/500], Loss: 0.031717\n",
      "Epoch [485/500], Loss: 0.003269\n",
      "Epoch [490/500], Loss: 0.002446\n",
      "Epoch [495/500], Loss: 0.028762\n",
      "Epoch [500/500], Loss: 0.009025\n",
      "--- Training Complete ---\n"
     ]
    }
   ],
   "source": [
    "# Train the Supervised Model\n",
    "\n",
    "N_FEATURES = X_train_processed.shape[1]\n",
    "NUM_CLASSES = len(y.unique())\n",
    "\n",
    "model = TransformerClassifier(\n",
    "    feature_size=N_FEATURES,\n",
    "    d_model=D_MODEL,\n",
    "    n_heads=N_HEADS,\n",
    "    num_encoder_layers=NUM_ENCODER_LAYERS,\n",
    "    num_classes=NUM_CLASSES,\n",
    "    dropout_rate=DROPOUT_RATE\n",
    ").to(device)\n",
    "\n",
    "# Handling Class Imbalance\n",
    "class_counts = y_train.value_counts().sort_index()\n",
    "weights = 1.0 / torch.tensor(class_counts.values, dtype=torch.float32)\n",
    "weights = weights / weights.sum() # Normalize weights\n",
    "criterion = nn.CrossEntropyLoss(weight=weights.to(device)) # Use class weights in loss function\n",
    "optimizer = torch.optim.Adam(model.parameters(), lr=LEARNING_RATE)\n",
    "\n",
    "\n",
    "# Training \n",
    "print(f\"\\n--- Starting Supervised Transformer Model Training ({NUM_EPOCHS} Epochs) ---\")\n",
    "for epoch in range(NUM_EPOCHS):\n",
    "    model.train()\n",
    "    for seqs, labels in train_loader:\n",
    "        seqs, labels = seqs.to(device), labels.to(device)\n",
    "        outputs = model(seqs) # These are raw logits\n",
    "        loss = criterion(outputs, labels)\n",
    "        optimizer.zero_grad()\n",
    "        loss.backward()\n",
    "        torch.nn.utils.clip_grad_norm_(model.parameters(), max_norm=1.0) # Gradient clipping\n",
    "        optimizer.step()\n",
    "    if (epoch + 1) % 5 == 0:\n",
    "        print(f'Epoch [{epoch+1}/{NUM_EPOCHS}], Loss: {loss.item():.6f}')\n",
    "print(\"--- Training Complete ---\")"
   ]
  },
  {
   "cell_type": "code",
   "execution_count": 22,
   "id": "8b2174c0-a706-4b80-a01e-32a9127d66eb",
   "metadata": {},
   "outputs": [
    {
     "name": "stdout",
     "output_type": "stream",
     "text": [
      "\n",
      "--- Evaluating Classifier on the Test Set ---\n",
      "\n",
      "--- Final Classification Report (Transformer Classifier) ---\n",
      "              precision    recall  f1-score   support\n",
      "\n",
      "  Normal (0)       0.98      0.98      0.98     39422\n",
      "  Benign (1)       0.83      0.78      0.81       529\n",
      "  Attack (2)       0.87      0.89      0.88      5499\n",
      "\n",
      "    accuracy                           0.97     45450\n",
      "   macro avg       0.89      0.88      0.89     45450\n",
      "weighted avg       0.97      0.97      0.97     45450\n",
      "\n",
      "\n",
      "--- Final Confusion Matrix ---\n"
     ]
    },
    {
     "data": {
      "image/png": "[encoded data removed]",
      "text/plain": [
       "<Figure size 432x288 with 2 Axes>"
      ]
     },
     "metadata": {
      "needs_background": "light"
     },
     "output_type": "display_data"
    }
   ],
   "source": [
    "# Evaluation\n",
    "print(\"\\n--- Evaluating Classifier on the Test Set ---\")\n",
    "model.eval()\n",
    "all_preds = []\n",
    "all_true = []\n",
    "with torch.no_grad():\n",
    "    for seqs, labels in test_loader:\n",
    "        seqs = seqs.to(device)\n",
    "        outputs = model(seqs)\n",
    "        # Get predictions by finding the class with the highest score (logit)\n",
    "        _, predicted_labels = torch.max(outputs, 1)\n",
    "        all_preds.extend(predicted_labels.cpu().numpy())\n",
    "        all_true.extend(labels.numpy())\n",
    "\n",
    "\n",
    "\n",
    "# Generate the final report and confusion matrix\n",
    "target_names = ['Normal (0)', 'Benign (1)', 'Attack (2)']\n",
    "print(\"\\n--- Final Classification Report (Transformer Classifier) ---\")\n",
    "print(classification_report(all_true, all_preds, target_names=target_names))\n",
    "\n",
    "print(\"\\n--- Final Confusion Matrix ---\")\n",
    "cm = confusion_matrix(all_true, all_preds)\n",
    "disp = ConfusionMatrixDisplay(confusion_matrix=cm, display_labels=target_names)\n",
    "disp.plot(cmap='Blues', xticks_rotation='vertical')\n",
    "plt.show()"
   ]
  },
  {
   "cell_type": "code",
   "execution_count": null,
   "id": "2e26ba65-b9ee-414d-b505-d325bbfd9f2d",
   "metadata": {},
   "outputs": [],
   "source": [
    "  "
   ]
  }
 ],
 "metadata": {
  "kernelspec": {
   "display_name": "Venv",
   "language": "python",
   "name": ".venv"
  },
  "language_info": {
   "codemirror_mode": {
    "name": "ipython",
    "version": 3
   },
   "file_extension": ".py",
   "mimetype": "text/x-python",
   "name": "python",
   "nbconvert_exporter": "python",
   "pygments_lexer": "ipython3",
   "version": "3.11.9"
  }
 },
 "nbformat": 4,
 "nbformat_minor": 5
}
